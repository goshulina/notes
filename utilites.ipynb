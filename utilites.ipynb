{
 "cells": [
  {
   "cell_type": "markdown",
   "metadata": {},
   "source": [
    "# Warnings"
   ]
  },
  {
   "cell_type": "code",
   "execution_count": null,
   "metadata": {},
   "outputs": [],
   "source": [
    "import warnings\n",
    "import os\n",
    "import torch\n",
    "os.environ['TF_CPP_MIN_LOG_LEVEL'] = '3'\n",
    "from transformers import logging\n",
    "logging.set_verbosity_error()\n",
    "warnings.filterwarnings('ignore')\n",
    "os.environ[\"TOKENIZERS_PARALLELISM\"] = \"false\"\n",
    "from transformers import AutoTokenizer, AutoModel\n",
    "import tensorflow as tf\n"
   ]
  },
  {
   "cell_type": "markdown",
   "metadata": {},
   "source": [
    "# Vectors"
   ]
  },
  {
   "cell_type": "markdown",
   "metadata": {},
   "source": [
    "### Bow"
   ]
  },
  {
   "cell_type": "code",
   "execution_count": null,
   "metadata": {},
   "outputs": [],
   "source": [
    "from collections import Counter\n",
    "from sklearn.feature_extraction.text import CountVectorizer\n",
    "# counts = Counter(words)\n",
    "# cv = CountVectorizer(vocabulary=counts.keys())\n",
    "# cv.fit_transform(i).toarray()[0].tolist()\n",
    "\n",
    "\n",
    "vectorizer = CountVectorizer()\n",
    "X = vectorizer.fit_transform(corpus)"
   ]
  },
  {
   "cell_type": "markdown",
   "metadata": {},
   "source": [
    "### tfidf"
   ]
  },
  {
   "cell_type": "code",
   "execution_count": null,
   "metadata": {},
   "outputs": [],
   "source": [
    "from sklearn.feature_extraction.text import TfidfVectorizer\n",
    "vectorizer = TfidfVectorizer(\n",
    "    max_df=0.5,\n",
    "    min_df=0.0005,\n",
    "    ngram_range=(1, 2)\n",
    ")\n",
    "x = vectorizer.fit_transform(data)"
   ]
  },
  {
   "cell_type": "markdown",
   "metadata": {},
   "source": [
    "### split & shuffle"
   ]
  },
  {
   "cell_type": "code",
   "execution_count": null,
   "metadata": {},
   "outputs": [],
   "source": [
    "def split_train_test(corpus, labels, ratios=False):\n",
    "    X_train, X_test, y_train, y_test = [], [], [], []\n",
    "    if ratios:\n",
    "        for k, v in ratios.items():\n",
    "            train_rate = v[1] / v[0]\n",
    "            corpus_current, labels_current = data_by_class_selection(corpus, labels, k)\n",
    "            x_train_1, x_test_1, y_train_1, y_test_1 = train_test_split(\n",
    "                corpus_current, \n",
    "                labels_current, \n",
    "                test_size=train_rate, \n",
    "                random_state=41)\n",
    "            X_train.extend(x_train_1)\n",
    "            X_test.extend(x_test_1)\n",
    "            y_train.extend(y_train_1)\n",
    "            y_test.extend(y_test_1)\n",
    "    else:\n",
    "        for i in dict(pd.Series(labels).value_counts()).keys():\n",
    "            corpus_current, labels_current = data_by_class_selection(corpus, labels, i)\n",
    "            train_rate = 0.3\n",
    "            x_train_1, x_test_1, y_train_1, y_test_1 = train_test_split(\n",
    "                corpus_current, \n",
    "                labels_current, \n",
    "                test_size=train_rate, \n",
    "                random_state=41)\n",
    "            X_train.extend(x_train_1)\n",
    "            X_test.extend(x_test_1)\n",
    "            y_train.extend(y_train_1)\n",
    "            y_test.extend(y_test_1)\n",
    "    return X_train, X_test, y_train, y_test\n",
    "\n",
    "def data_by_class_selection(corpus, labels, c):\n",
    "    new_corpus = []\n",
    "    new_labels = []\n",
    "    for d, l in zip(corpus, labels):\n",
    "        if l == c:\n",
    "            new_corpus.append(d)\n",
    "            new_labels.append(l)\n",
    "    return new_corpus, new_labels\n",
    "\n",
    "def shuffle_data(corpus, labels):\n",
    "    combined = list(zip(corpus, labels))\n",
    "    random.shuffle(combined)\n",
    "    corpus[:], labels[:] = zip(*combined)\n",
    "    return corpus, labels"
   ]
  },
  {
   "cell_type": "markdown",
   "metadata": {},
   "source": [
    "### preprocess"
   ]
  },
  {
   "cell_type": "code",
   "execution_count": 71,
   "metadata": {},
   "outputs": [],
   "source": [
    "from pymystem3 import Mystem\n",
    "import re\n",
    "stemmer = Mystem()\n",
    "def preprocess(t, stem=True):\n",
    "    x = ''.join([i for i in t.lower() if i in 'абвгдеёжзийклмнопрстуфхцчшщъыьэюя .'])  # <<<<<<< LOWER\n",
    "    x = x.replace('.', ' ')\n",
    "    if stem:\n",
    "        x = ''.join(stemmer.lemmatize(x))\n",
    "    else:\n",
    "        pass\n",
    "    x = ' '.join([i for i in x.split() if len(i) > 2])\n",
    "    x = re.sub('\\s+', ' ', x)\n",
    "    return x.strip()"
   ]
  },
  {
   "cell_type": "code",
   "execution_count": 70,
   "metadata": {},
   "outputs": [],
   "source": [
    "def clean_tesseract(x):\n",
    "    import re\n",
    "    x = re.sub(r'\\\"', ' ', x)\n",
    "    x = x.replace('\\\\n', ' ')\n",
    "    x = x.replace('\\\\', ' ')\n",
    "    x = re.sub('\\s+', ' ', x)\n",
    "    return x.strip()"
   ]
  },
  {
   "cell_type": "markdown",
   "metadata": {},
   "source": [
    "# Quality"
   ]
  },
  {
   "cell_type": "code",
   "execution_count": null,
   "metadata": {},
   "outputs": [],
   "source": [
    "from sklearn.metrics import confusion_matrix\n",
    "from sklearn.metrics import f1_score, accuracy_score\n",
    "import numpy as np\n",
    "m = confusion_matrix(y_true, y_pred)\n",
    "new_m = []\n",
    "l = []\n",
    "print(m)\n",
    "for i in m:\n",
    "    s = sum(i)\n",
    "    for ii in i:\n",
    "        l.append(round(ii / s * 100))\n",
    "    new_m.append(l)\n",
    "    l = []\n",
    "print(np.array(new_m))\n",
    "\n",
    "print(f1_score(y_true, y_pred, average='macro'))\n",
    "print(accuracy_score(y_true, y_pred))"
   ]
  },
  {
   "cell_type": "code",
   "execution_count": null,
   "metadata": {},
   "outputs": [],
   "source": [
    "print(__doc__)\n",
    "import itertools\n",
    "import numpy as np\n",
    "import matplotlib.pyplot as plt\n",
    "from sklearn import svm, datasets\n",
    "from sklearn.model_selection import train_test_split\n",
    "from sklearn.metrics import confusion_matrix\n",
    "def plot_confusion_matrix(cm, classes,\n",
    "                          normalize=False,\n",
    "                          title='Confusion matrix',\n",
    "                          cmap=plt.cm.Blues):\n",
    "    \"\"\"\n",
    "    This function prints and plots the confusion matrix.\n",
    "    Normalization can be applied by setting `normalize=True`.\n",
    "    \"\"\"\n",
    "    if normalize:\n",
    "        cm = cm.astype('float') / cm.sum(axis=1)[:, np.newaxis]\n",
    "        print(\"Normalized confusion matrix\")\n",
    "    else:\n",
    "        print('Confusion matrix without normalization')\n",
    "\n",
    "    print(cm)\n",
    "\n",
    "    plt.imshow(cm, interpolation='nearest', cmap=cmap)\n",
    "    plt.title(title)\n",
    "    plt.colorbar()\n",
    "    tick_marks = np.arange(len(classes))\n",
    "    plt.xticks(tick_marks, classes, rotation=45)\n",
    "    plt.yticks(tick_marks, classes)\n",
    "    \n",
    "\n",
    "    fmt = '.2f' if normalize else 'd'\n",
    "    thresh = cm.max() / 2.\n",
    "    for i, j in itertools.product(range(cm.shape[0]), range(cm.shape[1])):\n",
    "        plt.text(j, i, format(cm[i, j], fmt),\n",
    "                 horizontalalignment=\"center\",\n",
    "                 color=\"white\" if cm[i, j] > thresh else \"black\")\n",
    "\n",
    "    plt.tight_layout()\n",
    "    plt.ylabel('True label')\n",
    "    plt.xlabel('Predicted label')\n",
    "    \n",
    "    \n",
    "cnf_matrix = np.array(new_m).astype(int)\n",
    "\n",
    "    \n",
    "np.set_printoptions(precision=2)\n",
    "\n",
    "# Plot non-normalized confusion matrix\n",
    "plt.figure(num=None, figsize=(13, 11), dpi=80, facecolor='w', edgecolor='k')\n",
    "plot_confusion_matrix(cnf_matrix, classes=list(pd.Series(y_pred).value_counts().keys()),\n",
    "                      title='Confusion matrix huyatrix')\n",
    "\n",
    "plt.show()"
   ]
  },
  {
   "cell_type": "markdown",
   "metadata": {},
   "source": [
    "### Jaccard index"
   ]
  },
  {
   "cell_type": "code",
   "execution_count": 1,
   "metadata": {},
   "outputs": [
    {
     "data": {
      "text/plain": [
       "0.8"
      ]
     },
     "execution_count": 1,
     "metadata": {},
     "output_type": "execute_result"
    }
   ],
   "source": [
    "def jaccard(x1, x2):\n",
    "    intersection = set(x1.split()).intersection(set(x2.split()))\n",
    "    union = set(x1.split()).union(set(x2.split()))\n",
    "    try:\n",
    "        return float(format(len(intersection) / len(union), '.2f'))\n",
    "    except ZeroDivisionError:\n",
    "        return 233.\n",
    "jaccard('Дяденька король цветной капусты хотца', 'Дяденька король цветной капусты')"
   ]
  },
  {
   "cell_type": "markdown",
   "metadata": {},
   "source": [
    "# Open"
   ]
  },
  {
   "cell_type": "code",
   "execution_count": 5,
   "metadata": {},
   "outputs": [
    {
     "data": {
      "text/plain": [
       "2.3333333333333335"
      ]
     },
     "execution_count": 5,
     "metadata": {},
     "output_type": "execute_result"
    }
   ],
   "source": [
    "(70*2)/60"
   ]
  },
  {
   "cell_type": "code",
   "execution_count": 9,
   "metadata": {},
   "outputs": [],
   "source": [
    "def get_files(path, ext):\n",
    "    import os\n",
    "    paths_to_files = []\n",
    "    for root, dir, files in os.walk(path):\n",
    "        if files:\n",
    "            for f in files:\n",
    "                if ext in f:\n",
    "                    paths_to_files.append(os.path.join(root, f))\n",
    "    if paths_to_files:\n",
    "        return paths_to_files\n",
    "    else:\n",
    "        raise ValueError('No such directory')\n",
    "# get_files('<path>', 'csv')"
   ]
  },
  {
   "cell_type": "code",
   "execution_count": null,
   "metadata": {},
   "outputs": [],
   "source": [
    "try:\n",
    "    with open('personal_info_wall_media_sep152020.json') as json_file:\n",
    "        data = json.load(json_file)\n",
    "    data.update(user_data)\n",
    "    json.dump(data, open(\"personal_info_wall_media_sep152020.json\", 'w'))\n",
    "except FileNotFoundError:\n",
    "    json.dump(user_data, open(\"personal_info_wall_media_sep152020.json\", 'w'))\n",
    "user_data = {}"
   ]
  },
  {
   "cell_type": "code",
   "execution_count": null,
   "metadata": {},
   "outputs": [],
   "source": [
    "import csv\n",
    "new_labels1, new_corpus1 = [], []\n",
    "with open('type_march_.csv', 'rt') as csvfile:\n",
    "    readCSV = csv.reader(csvfile, delimiter=',')\n",
    "    for n, i in enumerate(readCSV):\n",
    "        # print(i)\n",
    "        # break\n",
    "        if n != 0:\n",
    "            new_labels1.append(i[0])\n",
    "            new_corpus1.append(i[1])"
   ]
  },
  {
   "cell_type": "markdown",
   "metadata": {},
   "source": [
    "# Notes"
   ]
  },
  {
   "cell_type": "code",
   "execution_count": null,
   "metadata": {},
   "outputs": [],
   "source": [
    "flat_list = [item for sublist in t for item in sublist]"
   ]
  },
  {
   "cell_type": "code",
   "execution_count": null,
   "metadata": {},
   "outputs": [],
   "source": [
    "from copy import copy\n",
    "def top_n_max(series, top=2, diraction=max):\n",
    "    series = list(set(series.tolist()))\n",
    "    if diraction == max:\n",
    "      top_result = sorted(series)[-top:]\n",
    "    else:\n",
    "      top_result = sorted(series)[:top]\n",
    "    return top_result"
   ]
  }
 ],
 "metadata": {
  "kernelspec": {
   "display_name": "Python 3",
   "language": "python",
   "name": "python3"
  },
  "language_info": {
   "codemirror_mode": {
    "name": "ipython",
    "version": 3
   },
   "file_extension": ".py",
   "mimetype": "text/x-python",
   "name": "python",
   "nbconvert_exporter": "python",
   "pygments_lexer": "ipython3",
   "version": "3.8.5"
  }
 },
 "nbformat": 4,
 "nbformat_minor": 4
}
