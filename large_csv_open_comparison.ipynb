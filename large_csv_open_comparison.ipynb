{
 "cells": [
  {
   "cell_type": "code",
   "execution_count": 8,
   "metadata": {},
   "outputs": [
    {
     "name": "stdout",
     "output_type": "stream",
     "text": [
      "Ищем всех кто что то покупал в 2020\n",
      "0\n",
      "1000000\n",
      "2000000\n",
      "3000000\n",
      "4000000\n",
      "5000000\n",
      "6000000\n",
      "7000000\n",
      "8000000\n",
      "9000000\n",
      "10000000\n",
      "11000000\n",
      "12000000\n",
      "13000000\n",
      "14000000\n",
      "15000000\n",
      "16000000\n",
      "17000000\n",
      "18000000\n",
      "19000000\n",
      "20000000\n",
      "21000000\n",
      "22000000\n",
      "23000000\n",
      "24000000\n",
      "25000000\n",
      "26000000\n",
      "27000000\n",
      "28000000\n",
      "29000000\n",
      "30000000\n",
      "31000000\n",
      "32000000\n",
      "33000000\n",
      "34000000\n",
      "35000000\n",
      "CPU times: user 2min 44s, sys: 7.32 s, total: 2min 52s\n",
      "Wall time: 2min 56s\n"
     ]
    }
   ],
   "source": [
    "%%time\n",
    "import io\n",
    "import csv\n",
    "aug_sum = {}\n",
    "path_to_inter_file = '/Users/georgy/Downloads/combined — копия.csv'\n",
    "with io.open(path_to_inter_file, 'r', encoding='utf-8') as f:\n",
    "    reader = csv.reader(f, delimiter=',')\n",
    "    for i, row in enumerate(reader):\n",
    "        data.append(i)\n",
    "        if i % 1000000 == 0:\n",
    "            print(i)"
   ]
  },
  {
   "cell_type": "code",
   "execution_count": 9,
   "metadata": {},
   "outputs": [
    {
     "name": "stdout",
     "output_type": "stream",
     "text": [
      "0\n",
      "1000000\n",
      "2000000\n",
      "3000000\n",
      "4000000\n",
      "5000000\n",
      "6000000\n",
      "7000000\n",
      "8000000\n",
      "9000000\n",
      "10000000\n",
      "11000000\n",
      "12000000\n",
      "13000000\n",
      "14000000\n",
      "15000000\n",
      "16000000\n",
      "17000000\n",
      "18000000\n",
      "19000000\n",
      "20000000\n",
      "21000000\n",
      "22000000\n",
      "23000000\n",
      "24000000\n",
      "25000000\n",
      "26000000\n",
      "27000000\n",
      "28000000\n",
      "29000000\n",
      "30000000\n",
      "31000000\n",
      "32000000\n",
      "33000000\n",
      "34000000\n",
      "35000000\n",
      "CPU times: user 4min 46s, sys: 10.1 s, total: 4min 56s\n",
      "Wall time: 5min 1s\n"
     ]
    }
   ],
   "source": [
    "%%time\n",
    "import io\n",
    "import csv\n",
    "\n",
    "path_to_inter_file = '/Users/georgy/Downloads/combined — копия.csv'\n",
    "x = []\n",
    "with io.open(path_to_inter_file, encoding='utf-8') as csvfile:  \n",
    "    data = csv.DictReader(csvfile)\n",
    "    for i, row in enumerate(data):\n",
    "        x.append(i)\n",
    "        if i % 1000000 == 0:\n",
    "            print(i)"
   ]
  },
  {
   "cell_type": "code",
   "execution_count": 20,
   "metadata": {},
   "outputs": [
    {
     "name": "stdout",
     "output_type": "stream",
     "text": [
      "0:00:00.026427\n"
     ]
    },
    {
     "name": "stderr",
     "output_type": "stream",
     "text": [
      "/Users/georgy/anaconda/envs/snakes37/lib/python3.7/site-packages/dask/core.py:121: DtypeWarning: Columns (13) have mixed types.Specify dtype option on import or set low_memory=False.\n",
      "  return func(*(_execute_task(a, cache) for a in args))\n"
     ]
    },
    {
     "name": "stdout",
     "output_type": "stream",
     "text": [
      "35066096\n",
      "0:01:58.899094\n"
     ]
    }
   ],
   "source": [
    "import dask.dataframe\n",
    "from datetime import datetime as dt\n",
    "now = dt.now()\n",
    "import dask.dataframe\n",
    "data = dask.dataframe.read_csv(path_to_inter_file)\n",
    "print(dt.now() - now)\n",
    "now = dt.now()\n",
    "print(len(data))\n",
    "print(dt.now() - now)"
   ]
  }
 ],
 "metadata": {
  "kernelspec": {
   "display_name": "snakes_py37",
   "language": "python",
   "name": "snakes_py37"
  },
  "language_info": {
   "codemirror_mode": {
    "name": "ipython",
    "version": 3
   },
   "file_extension": ".py",
   "mimetype": "text/x-python",
   "name": "python",
   "nbconvert_exporter": "python",
   "pygments_lexer": "ipython3",
   "version": "3.7.8"
  }
 },
 "nbformat": 4,
 "nbformat_minor": 4
}
